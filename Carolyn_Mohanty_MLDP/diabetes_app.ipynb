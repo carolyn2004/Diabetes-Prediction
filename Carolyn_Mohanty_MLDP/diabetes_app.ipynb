{
 "cells": [
  {
   "cell_type": "code",
   "execution_count": 1,
   "id": "2785b03b-298c-43e7-b504-530173dabb1d",
   "metadata": {},
   "outputs": [],
   "source": [
    "# Import the libraies\n",
    "import numpy as np\n",
    "from flask import Flask, request, render_template\n",
    "import joblib\n"
   ]
  },
  {
   "cell_type": "code",
   "execution_count": 2,
   "id": "4f6955a7-2928-4317-8627-8f48233611fe",
   "metadata": {},
   "outputs": [],
   "source": [
    "# Create the Flask app and load the trained model\n",
    "app = Flask(__name__)\n",
    "model = joblib.load('diabetes_model3.pkl')\n"
   ]
  },
  {
   "cell_type": "code",
   "execution_count": 3,
   "id": "389f5d51-84e0-473e-b694-ec7cebc75ef8",
   "metadata": {},
   "outputs": [],
   "source": [
    "# Define the '/' root route to display the content from index.html\n",
    "@app.route('/')\n",
    "def home():\n",
    "    return render_template('diabetes_index.html')"
   ]
  },
  {
   "cell_type": "code",
   "execution_count": 4,
   "id": "ffed927d-f935-4b82-a534-69979489ecdb",
   "metadata": {},
   "outputs": [],
   "source": [
    "@app.route('/predict',methods=['POST'])\n",
    "def predict():\n",
    "    form_data = [float(x) for x in request.form.values()]\n",
    "    features = [np.array(form_data)]\n",
    "    prediction = model.predict(features)\n",
    "\n",
    "    # Format prediction text for display in \"index.html\"\n",
    "    if prediction[0] == 0:\n",
    "        diabetes_prediction = 'No, you do not have diabetes. However, if you are uncertain, do visit your nearest doctor for a health checkup.'\n",
    "    else:\n",
    "        diabetes_prediction = 'According to our calculations, Yes, you have diabetes. Do visit your nearest doctor for a health checkup.'\n",
    "\n",
    "    return render_template('diabetes_index.html', diabetes_prediction=diabetes_prediction)\n"
   ]
  },
  {
   "cell_type": "code",
   "execution_count": null,
   "id": "b0aed975-b6f0-4826-9fc7-0fff7ed18966",
   "metadata": {},
   "outputs": [
    {
     "name": "stdout",
     "output_type": "stream",
     "text": [
      " * Serving Flask app '__main__'\n",
      " * Debug mode: off\n"
     ]
    },
    {
     "name": "stderr",
     "output_type": "stream",
     "text": [
      "WARNING: This is a development server. Do not use it in a production deployment. Use a production WSGI server instead.\n",
      " * Running on http://127.0.0.1:5000\n",
      "Press CTRL+C to quit\n",
      "127.0.0.1 - - [16/Feb/2023 18:02:10] \"GET / HTTP/1.1\" 200 -\n",
      "127.0.0.1 - - [16/Feb/2023 18:02:10] \"GET /favicon.ico HTTP/1.1\" 404 -\n",
      "127.0.0.1 - - [16/Feb/2023 18:02:28] \"POST /predict HTTP/1.1\" 200 -\n",
      "127.0.0.1 - - [16/Feb/2023 18:02:44] \"POST /predict HTTP/1.1\" 200 -\n"
     ]
    }
   ],
   "source": [
    "if __name__ == '__main__':\n",
    "    app.run(debug=False)"
   ]
  },
  {
   "cell_type": "code",
   "execution_count": null,
   "id": "10a8dd99-9cc8-4eb3-8477-eb91a88b968d",
   "metadata": {},
   "outputs": [],
   "source": []
  },
  {
   "cell_type": "code",
   "execution_count": null,
   "id": "9e6d8493-0242-47a6-a8e8-1845486b993e",
   "metadata": {},
   "outputs": [],
   "source": []
  },
  {
   "cell_type": "code",
   "execution_count": null,
   "id": "c2da64a2-25b6-442f-a261-715a89e36656",
   "metadata": {},
   "outputs": [],
   "source": []
  },
  {
   "cell_type": "code",
   "execution_count": null,
   "id": "2554ac27-0dfa-480b-a2b1-b35e75f09472",
   "metadata": {},
   "outputs": [],
   "source": []
  }
 ],
 "metadata": {
  "kernelspec": {
   "display_name": "Python 3 (ipykernel)",
   "language": "python",
   "name": "python3"
  },
  "language_info": {
   "codemirror_mode": {
    "name": "ipython",
    "version": 3
   },
   "file_extension": ".py",
   "mimetype": "text/x-python",
   "name": "python",
   "nbconvert_exporter": "python",
   "pygments_lexer": "ipython3",
   "version": "3.8.15"
  }
 },
 "nbformat": 4,
 "nbformat_minor": 5
}
